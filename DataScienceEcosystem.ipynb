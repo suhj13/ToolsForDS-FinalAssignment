{
 "cells": [
  {
   "cell_type": "markdown",
   "id": "e9983295-0230-48ab-83aa-4f10563b4c7e",
   "metadata": {},
   "source": [
    "# Data Science Tools and Ecosystem"
   ]
  },
  {
   "cell_type": "markdown",
   "id": "1a740a24-cb51-4de0-9211-76de0766099c",
   "metadata": {},
   "source": [
    "## In this notebook, Data Science Tools and Ecosystem are summarized."
   ]
  },
  {
   "cell_type": "markdown",
   "id": "bc0e3052-b55b-4c5e-bbc4-63d88029a32d",
   "metadata": {},
   "source": [
    "### **Objectives**\n",
    "- List of popular languages for Data Science\n",
    "- List of commonly used libraries for Data Science\n",
    "- Table for tools used in Data Science\n",
    "- Two arithmetic expressions in python"
   ]
  },
  {
   "cell_type": "markdown",
   "id": "630bbbb8-19e7-4aed-85ab-e8a18138059e",
   "metadata": {},
   "source": [
    "## Some of the popular languages that Data Scientists use are: \n",
    "1. Python\n",
    "2. R\n",
    "3. SQL\n",
    "4. C++"
   ]
  },
  {
   "cell_type": "markdown",
   "id": "177e323a-ae57-43de-a009-9c4672e3a183",
   "metadata": {},
   "source": [
    "## Some of the commonly used librarires used by Data Scientists include:\n",
    "1. Pandas\n",
    "2. NumPy\n",
    "3. Matplotlib\n",
    "4. Scikit\n",
    "5. TensorFlow\n",
    "6. PyTorch\n",
    "7. ggplot2"
   ]
  },
  {
   "cell_type": "markdown",
   "id": "0ac5f0b1-966e-4e92-89a3-4195bca19ad7",
   "metadata": {},
   "source": [
    "|Data Science Tools|\n",
    "|------------------|\n",
    "|JupyterNotebooks|\n",
    "|JupyterLab|\n",
    "|Apache Zeppelin|"
   ]
  },
  {
   "cell_type": "markdown",
   "id": "a910c3a6-4b68-4c18-8de5-dc89e570e068",
   "metadata": {},
   "source": [
    "### Below are a few examples of evaluating arithmetic expressions in Python"
   ]
  },
  {
   "cell_type": "code",
   "execution_count": 5,
   "id": "abf1ee2f-370a-45aa-852d-ec661e2cd07f",
   "metadata": {},
   "outputs": [
    {
     "name": "stdout",
     "output_type": "stream",
     "text": [
      "17\n"
     ]
    }
   ],
   "source": [
    "def expression(a, b , c):\n",
    "    return((a*b)+c) #This is a simple arithmetic expression to multiply then add integers.\n",
    "\n",
    "x = 3\n",
    "y = 4\n",
    "z = 5\n",
    "print(expression(x, y, z))"
   ]
  },
  {
   "cell_type": "code",
   "execution_count": 4,
   "id": "01b59816-4bda-4bf6-9754-73b70c0b2bb9",
   "metadata": {},
   "outputs": [
    {
     "name": "stdout",
     "output_type": "stream",
     "text": [
      "3.3333333333333335\n"
     ]
    }
   ],
   "source": [
    "def min_to_hrs(a):\n",
    "    return(a/60) #This will convert 200 minutes to hours by dividing by 60.\n",
    "\n",
    "x = 200\n",
    "print(min_to_hrs(x))"
   ]
  },
  {
   "cell_type": "markdown",
   "id": "03453084-c38e-4ad2-b7d9-814718e771db",
   "metadata": {},
   "source": [
    "## Author\n",
    "Joshua Suh"
   ]
  },
  {
   "cell_type": "code",
   "execution_count": null,
   "id": "208bf5ed-216c-43e3-a91a-f44f0837375c",
   "metadata": {},
   "outputs": [],
   "source": []
  }
 ],
 "metadata": {
  "kernelspec": {
   "display_name": "Python 3 (ipykernel)",
   "language": "python",
   "name": "python3"
  },
  "language_info": {
   "codemirror_mode": {
    "name": "ipython",
    "version": 3
   },
   "file_extension": ".py",
   "mimetype": "text/x-python",
   "name": "python",
   "nbconvert_exporter": "python",
   "pygments_lexer": "ipython3",
   "version": "3.11.7"
  }
 },
 "nbformat": 4,
 "nbformat_minor": 5
}
